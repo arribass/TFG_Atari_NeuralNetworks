{
 "cells": [
  {
   "cell_type": "markdown",
   "metadata": {},
   "source": [
    "# Taxi con DQN"
   ]
  },
  {
   "cell_type": "code",
   "execution_count": 1,
   "metadata": {},
   "outputs": [],
   "source": [
    "import gym\n",
    "from agent import TaxiAgent\n",
    "from model import DQN"
   ]
  },
  {
   "cell_type": "markdown",
   "metadata": {},
   "source": []
  },
  {
   "cell_type": "markdown",
   "metadata": {},
   "source": [
    "Seleccionamos el entorno"
   ]
  },
  {
   "cell_type": "code",
   "execution_count": 2,
   "metadata": {},
   "outputs": [],
   "source": [
    "env = gym.make(\"Taxi-v3\").env"
   ]
  },
  {
   "cell_type": "code",
   "execution_count": 3,
   "metadata": {},
   "outputs": [
    {
     "name": "stdout",
     "output_type": "stream",
     "text": [
      "GeForce GTX 1060 6GB\n",
      "Memory Usage:\n",
      "Allocated: 0.0 GB\n",
      "Cached:    0.0 GB\n",
      "Free:      0.0 GB\n",
      "id: taxiDQN_7_27_0_19.pt\n",
      "gamma: 0.99\n",
      "optimizer: Adam (\n",
      "Parameter Group 0\n",
      "    amsgrad: False\n",
      "    betas: (0.9, 0.999)\n",
      "    eps: 1e-08\n",
      "    lr: 0.001\n",
      "    weight_decay: 0\n",
      ")\n",
      "loss: L1Loss()\n",
      "device: cpu\n",
      "model: DQN(\n",
      "  (emb): Embedding(500, 4)\n",
      "  (l1): Linear(in_features=4, out_features=50, bias=True)\n",
      "  (l2): Linear(in_features=50, out_features=50, bias=True)\n",
      "  (l3): Linear(in_features=50, out_features=6, bias=True)\n",
      ")\n",
      "modeloObjetivo: DQN(\n",
      "  (emb): Embedding(500, 4)\n",
      "  (l1): Linear(in_features=4, out_features=50, bias=True)\n",
      "  (l2): Linear(in_features=50, out_features=50, bias=True)\n",
      "  (l3): Linear(in_features=50, out_features=6, bias=True)\n",
      ")\n",
      "env: <TaxiEnv<Taxi-v3>>\n",
      "episodios_exitosos: 0\n"
     ]
    }
   ],
   "source": [
    "agent = TaxiAgent(env=env, model=DQN,device='cpu')\n",
    "agent.preparar()\n",
    "agent.mostrar_info_cuda()\n",
    "agent.mostrar_datos_clase()"
   ]
  },
  {
   "cell_type": "markdown",
   "metadata": {},
   "source": [
    "### Entrenamos el agente"
   ]
  },
  {
   "cell_type": "code",
   "execution_count": 4,
   "metadata": {},
   "outputs": [
    {
     "data": {
      "image/png": "[encoded data removed]",
      "text/plain": [
       "<Figure size 1080x504 with 1 Axes>"
      ]
     },
     "metadata": {
      "needs_background": "light"
     },
     "output_type": "display_data"
    },
    {
     "name": "stdout",
     "output_type": "stream",
     "text": [
      "\n",
      "Episodio: 156\n",
      "Ratio de exito: 0 / 156\n",
      "Training has been interrupted\n",
      "Training has finished\n",
      "Guardando modelo y datos\n"
     ]
    }
   ],
   "source": [
    "agent.entrenar_por_lotes(num_episodes=100000)"
   ]
  },
  {
   "cell_type": "markdown",
   "metadata": {},
   "source": [
    "### Probamos el agente\n",
    "Objetivo acabar en Azul"
   ]
  },
  {
   "cell_type": "code",
   "execution_count": null,
   "metadata": {},
   "outputs": [
    {
     "name": "stdout",
     "output_type": "stream",
     "text": [
      "Jugando...\n",
      "+---------+\n",
      "|\u001b[34;1mR\u001b[0m: | : :G|\n",
      "| : | : : |\n",
      "| : : : : |\n",
      "| | : | : |\n",
      "|\u001b[43mY\u001b[0m| : |\u001b[35mB\u001b[0m: |\n",
      "+---------+\n",
      "\n"
     ]
    },
    {
     "ename": "AttributeError",
     "evalue": "'TaxiAgent' object has no attribute 'model'",
     "output_type": "error",
     "traceback": [
      "\u001b[1;31m---------------------------------------------------------------------------\u001b[0m",
      "\u001b[1;31mAttributeError\u001b[0m                            Traceback (most recent call last)",
      "\u001b[1;32mc:\\Users\\Arribas\\Desktop\\Code\\TFG_Atari_NeuralNetworks\\TaxiDQN\\TaxiDQN.ipynb Celda 10\u001b[0m in \u001b[0;36m<cell line: 1>\u001b[1;34m()\u001b[0m\n\u001b[1;32m----> <a href='vscode-notebook-cell:/c%3A/Users/Arribas/Desktop/Code/TFG_Atari_NeuralNetworks/TaxiDQN/TaxiDQN.ipynb#ch0000009?line=0'>1</a>\u001b[0m agent\u001b[39m.\u001b[39;49mjugar(sleep\u001b[39m=\u001b[39;49m \u001b[39m0.1\u001b[39;49m)\n",
      "File \u001b[1;32mc:\\Users\\Arribas\\Desktop\\Code\\TFG_Atari_NeuralNetworks\\TaxiDQN\\agent.py:331\u001b[0m, in \u001b[0;36mTaxiAgent.jugar\u001b[1;34m(self, sleep, max)\u001b[0m\n\u001b[0;32m    329\u001b[0m i \u001b[39m+\u001b[39m\u001b[39m=\u001b[39m \u001b[39m1\u001b[39m\n\u001b[0;32m    330\u001b[0m \u001b[39mwith\u001b[39;00m torch\u001b[39m.\u001b[39mno_grad():\n\u001b[1;32m--> 331\u001b[0m     predicted \u001b[39m=\u001b[39m \u001b[39mself\u001b[39;49m\u001b[39m.\u001b[39;49mmodel(torch\u001b[39m.\u001b[39mtensor([state],device\u001b[39m=\u001b[39m\u001b[39mself\u001b[39m\u001b[39m.\u001b[39mdevice))\n\u001b[0;32m    332\u001b[0m     action \u001b[39m=\u001b[39m predicted\u001b[39m.\u001b[39mmax(\u001b[39m1\u001b[39m)[\u001b[39m1\u001b[39m]\n\u001b[0;32m    333\u001b[0m     \u001b[39mprint\u001b[39m(\u001b[39mf\u001b[39m\u001b[39m\"\u001b[39m\u001b[39mA ver: \u001b[39m\u001b[39m{\u001b[39;00m\u001b[39mself\u001b[39m\u001b[39m.\u001b[39mmodel(torch\u001b[39m.\u001b[39mtensor([state],device\u001b[39m=\u001b[39m\u001b[39mself\u001b[39m\u001b[39m.\u001b[39mdevice))\u001b[39m}\u001b[39;00m\u001b[39m\"\u001b[39m)\n",
      "\u001b[1;31mAttributeError\u001b[0m: 'TaxiAgent' object has no attribute 'model'"
     ]
    }
   ],
   "source": [
    "agent.jugar(sleep= 0.1)"
   ]
  },
  {
   "cell_type": "markdown",
   "metadata": {},
   "source": [
    "### TEST"
   ]
  },
  {
   "cell_type": "code",
   "execution_count": null,
   "metadata": {},
   "outputs": [
    {
     "name": "stdout",
     "output_type": "stream",
     "text": [
      "A ver: tensor([[-0.0363, -0.2098,  0.0828,  0.3583,  0.2088, -0.1813]])\n",
      "Action 3\n",
      "Pasamos del estado 54 al 54 mediante West\n",
      "+---------+\n",
      "|R: |\u001b[43m \u001b[0m: :G|\n",
      "| : | : : |\n",
      "| : : : : |\n",
      "| | : | : |\n",
      "|\u001b[35mY\u001b[0m| : |\u001b[34;1mB\u001b[0m: |\n",
      "+---------+\n",
      "  (West)\n"
     ]
    },
    {
     "ename": "KeyboardInterrupt",
     "evalue": "",
     "output_type": "error",
     "traceback": [
      "\u001b[1;31m---------------------------------------------------------------------------\u001b[0m",
      "\u001b[1;31mKeyboardInterrupt\u001b[0m                         Traceback (most recent call last)",
      "\u001b[1;32mc:\\Users\\Arribas\\Desktop\\Code\\TFG_Atari_NeuralNetworks\\TaxiDQN\\TaxiDQN.ipynb Celda 12\u001b[0m in \u001b[0;36m<cell line: 7>\u001b[1;34m()\u001b[0m\n\u001b[0;32m      <a href='vscode-notebook-cell:/c%3A/Users/Arribas/Desktop/Code/TFG_Atari_NeuralNetworks/TaxiDQN/TaxiDQN.ipynb#ch0000011?line=4'>5</a>\u001b[0m agent\u001b[39m.\u001b[39mmostrar_datos_clase()\n\u001b[0;32m      <a href='vscode-notebook-cell:/c%3A/Users/Arribas/Desktop/Code/TFG_Atari_NeuralNetworks/TaxiDQN/TaxiDQN.ipynb#ch0000011?line=5'>6</a>\u001b[0m agent\u001b[39m.\u001b[39mcargar_modelo()\n\u001b[1;32m----> <a href='vscode-notebook-cell:/c%3A/Users/Arribas/Desktop/Code/TFG_Atari_NeuralNetworks/TaxiDQN/TaxiDQN.ipynb#ch0000011?line=6'>7</a>\u001b[0m agent\u001b[39m.\u001b[39;49mjugar(sleep\u001b[39m=\u001b[39;49m \u001b[39m0.1\u001b[39;49m)\n",
      "File \u001b[1;32mc:\\Users\\Arribas\\Desktop\\Code\\TFG_Atari_NeuralNetworks\\TaxiDQN\\agent.py:339\u001b[0m, in \u001b[0;36mTaxiAgent.jugar\u001b[1;34m(self, sleep, max)\u001b[0m\n\u001b[0;32m    337\u001b[0m \u001b[39mprint\u001b[39m(\u001b[39mf\u001b[39m\u001b[39m'\u001b[39m\u001b[39mPasamos del estado \u001b[39m\u001b[39m{\u001b[39;00mstate\u001b[39m}\u001b[39;00m\u001b[39m al \u001b[39m\u001b[39m{\u001b[39;00mnew_state\u001b[39m}\u001b[39;00m\u001b[39m mediante \u001b[39m\u001b[39m{\u001b[39;00mactions_str[action]\u001b[39m}\u001b[39;00m\u001b[39m'\u001b[39m)\n\u001b[0;32m    338\u001b[0m \u001b[39mself\u001b[39m\u001b[39m.\u001b[39menv\u001b[39m.\u001b[39mrender()\n\u001b[1;32m--> 339\u001b[0m time\u001b[39m.\u001b[39;49msleep(sleep)\n\u001b[0;32m    340\u001b[0m display\u001b[39m.\u001b[39mclear_output(wait\u001b[39m=\u001b[39m\u001b[39mTrue\u001b[39;00m)\n\u001b[0;32m    341\u001b[0m state \u001b[39m=\u001b[39m new_state\n",
      "\u001b[1;31mKeyboardInterrupt\u001b[0m: "
     ]
    }
   ],
   "source": [
    "env = gym.make(\"Taxi-v3\").env\n",
    "agent = TaxiAgent(env=env, model=DQN,device='cpu')\n",
    "agent.preparar()\n",
    "agent.mostrar_info_cuda()\n",
    "agent.mostrar_datos_clase()\n",
    "agent.cargar_modelo()\n",
    "agent.jugar(sleep= 0.1)"
   ]
  },
  {
   "cell_type": "code",
   "execution_count": null,
   "metadata": {},
   "outputs": [
    {
     "data": {
      "text/plain": [
       "Text(0, 0.5, 'Duration & Rewards')"
      ]
     },
     "execution_count": 3,
     "metadata": {},
     "output_type": "execute_result"
    },
    {
     "data": {
      "image/png": "[encoded data removed]",
      "text/plain": [
       "<Figure size 1080x504 with 1 Axes>"
      ]
     },
     "metadata": {
      "needs_background": "light"
     },
     "output_type": "display_data"
    }
   ],
   "source": [
    "\"\"\"\n",
    "    Graficar los resultados del entrenamiento.\n",
    "\"\"\"\n",
    "import matplotlib.pyplot as plt\n",
    "\n",
    "lines = []\n",
    "fig = plt.figure(1, figsize=(15, 7))\n",
    "plt.clf()\n",
    "ax1 = fig.add_subplot(111)\n",
    "\n",
    "plt.title('Training...')\n",
    "ax1.set_xlabel('Episode')\n",
    "ax1.set_ylabel('Duration & Rewards')"
   ]
  }
 ],
 "metadata": {
  "kernelspec": {
   "display_name": "Python 3.9.7 ('TFG': venv)",
   "language": "python",
   "name": "python3"
  },
  "language_info": {
   "codemirror_mode": {
    "name": "ipython",
    "version": 3
   },
   "file_extension": ".py",
   "mimetype": "text/x-python",
   "name": "python",
   "nbconvert_exporter": "python",
   "pygments_lexer": "ipython3",
   "version": "3.9.12"
  },
  "orig_nbformat": 4,
  "vscode": {
   "interpreter": {
    "hash": "8509acc5e8713a98dbbedabfc6a6cac6fac2bca11eebbd95d8d371780a414dfa"
   }
  }
 },
 "nbformat": 4,
 "nbformat_minor": 2
}
