{
 "cells": [
  {
   "cell_type": "markdown",
   "metadata": {},
   "source": [
    "# A"
   ]
  },
  {
   "cell_type": "code",
   "execution_count": 3,
   "metadata": {},
   "outputs": [],
   "source": [
    "# used to help with visualizing in Colab                 \n",
    "from IPython.display import display, clear_output   \n",
    "from time import sleep  "
   ]
  },
  {
   "cell_type": "markdown",
   "metadata": {},
   "source": [
    "### Inicializamos"
   ]
  },
  {
   "cell_type": "code",
   "execution_count": 4,
   "metadata": {},
   "outputs": [
    {
     "name": "stdout",
     "output_type": "stream",
     "text": [
      "+---------+\n",
      "|R: |\u001b[42m_\u001b[0m: :G|\n",
      "| : | : : |\n",
      "| : : : : |\n",
      "| | : | : |\n",
      "|Y| : |\u001b[35mB\u001b[0m: |\n",
      "+---------+\n",
      "  (North)\n"
     ]
    },
    {
     "ename": "KeyboardInterrupt",
     "evalue": "",
     "output_type": "error",
     "traceback": [
      "\u001b[1;31m---------------------------------------------------------------------------\u001b[0m",
      "\u001b[1;31mKeyboardInterrupt\u001b[0m                         Traceback (most recent call last)",
      "\u001b[1;32mc:\\Users\\Arribas\\Desktop\\Code\\TFG_Atari_NeuralNetworks\\Taxi\\TaxiTFG.ipynb Cell 4'\u001b[0m in \u001b[0;36m<cell line: 8>\u001b[1;34m()\u001b[0m\n\u001b[0;32m     <a href='vscode-notebook-cell:/c%3A/Users/Arribas/Desktop/Code/TFG_Atari_NeuralNetworks/Taxi/TaxiTFG.ipynb#ch0000003?line=11'>12</a>\u001b[0m     env\u001b[39m.\u001b[39mrender()\n\u001b[0;32m     <a href='vscode-notebook-cell:/c%3A/Users/Arribas/Desktop/Code/TFG_Atari_NeuralNetworks/Taxi/TaxiTFG.ipynb#ch0000003?line=12'>13</a>\u001b[0m     \u001b[39m# if done:\u001b[39;00m\n\u001b[0;32m     <a href='vscode-notebook-cell:/c%3A/Users/Arribas/Desktop/Code/TFG_Atari_NeuralNetworks/Taxi/TaxiTFG.ipynb#ch0000003?line=13'>14</a>\u001b[0m     \u001b[39m#     observation, info = env.reset(return_info=True)\u001b[39;00m\n\u001b[1;32m---> <a href='vscode-notebook-cell:/c%3A/Users/Arribas/Desktop/Code/TFG_Atari_NeuralNetworks/Taxi/TaxiTFG.ipynb#ch0000003?line=14'>15</a>\u001b[0m     sleep(\u001b[39m0.3\u001b[39;49m)\n\u001b[0;32m     <a href='vscode-notebook-cell:/c%3A/Users/Arribas/Desktop/Code/TFG_Atari_NeuralNetworks/Taxi/TaxiTFG.ipynb#ch0000003?line=16'>17</a>\u001b[0m env\u001b[39m.\u001b[39mclose()\n",
      "\u001b[1;31mKeyboardInterrupt\u001b[0m: "
     ]
    }
   ],
   "source": [
    "# used to help with visualizing in Colab                 \n",
    "from IPython.display import display, clear_output   \n",
    "from time import sleep  \n",
    "import gym\n",
    "env = gym.make('Taxi-v3')\n",
    "env.reset()\n",
    "done = False\n",
    "for _ in range(1000):\n",
    "    clear_output(wait=True) \n",
    "\n",
    "    observation, reward, done, info = env.step(env.action_space.sample())\n",
    "    env.render()\n",
    "    # if done:\n",
    "    #     observation, info = env.reset(return_info=True)\n",
    "    sleep(0.3)\n",
    "\n",
    "env.close()"
   ]
  },
  {
   "cell_type": "markdown",
   "metadata": {},
   "source": []
  }
 ],
 "metadata": {
  "kernelspec": {
   "display_name": "Python 3.9.7 ('TFG': venv)",
   "language": "python",
   "name": "python3"
  },
  "language_info": {
   "codemirror_mode": {
    "name": "ipython",
    "version": 3
   },
   "file_extension": ".py",
   "mimetype": "text/x-python",
   "name": "python",
   "nbconvert_exporter": "python",
   "pygments_lexer": "ipython3",
   "version": "3.9.7"
  },
  "orig_nbformat": 4,
  "vscode": {
   "interpreter": {
    "hash": "8509acc5e8713a98dbbedabfc6a6cac6fac2bca11eebbd95d8d371780a414dfa"
   }
  }
 },
 "nbformat": 4,
 "nbformat_minor": 2
}
