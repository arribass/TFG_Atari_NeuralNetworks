{
 "cells": [
  {
   "cell_type": "markdown",
   "metadata": {},
   "source": [
    "# Gym Taxi con Q-Learning y Deep Q-Learning"
   ]
  },
  {
   "cell_type": "code",
   "execution_count": 2,
   "metadata": {},
   "outputs": [],
   "source": [
    "# used to help with visualizing in Colab                 \n",
    "from IPython.display import display, clear_output   \n",
    "from time import sleep  "
   ]
  },
  {
   "cell_type": "markdown",
   "metadata": {},
   "source": [
    "## Inicializacion del entorno\n",
    "Probamos el enviroment y sampleamos el movimiento del taxi y sus diferentes acciones:\n",
    "\n",
    "0. Move South \n",
    "1. Move North\n",
    "2. Move east \n",
    "3. Move west\n",
    "4. Pickup passenger \n",
    "5. Drop off passenger\n",
    "\n",
    "Hay 4 localizaciones concretas en el grid:\n",
    "\n",
    "0. Red\n",
    "1. Green\n",
    "2. Yellow\n",
    "3. Blue"
   ]
  },
  {
   "cell_type": "code",
   "execution_count": 3,
   "metadata": {},
   "outputs": [
    {
     "name": "stdout",
     "output_type": "stream",
     "text": [
      "+---------+\n",
      "|\u001b[34;1mR\u001b[0m: | : :\u001b[35mG\u001b[0m|\n",
      "| : | : :\u001b[43m \u001b[0m|\n",
      "| : : : : |\n",
      "| | : | : |\n",
      "|Y| : |B: |\n",
      "+---------+\n",
      "  (East)\n"
     ]
    }
   ],
   "source": [
    "# used to help with visualizing in Colab                 \n",
    "from IPython.display import display, clear_output   \n",
    "from time import sleep  \n",
    "import gym\n",
    "env = gym.make('Taxi-v3')\n",
    "env.reset()\n",
    "\n",
    "for _ in range(100):\n",
    "    clear_output(wait=True) \n",
    "\n",
    "    observation, reward, done, info = env.step(env.action_space.sample())\n",
    "    env.render()\n",
    "    # if done:\n",
    "    #     observation, info = env.reset(return_info=True)\n",
    "    sleep(0.3)\n",
    "\n",
    "env.close()"
   ]
  },
  {
   "cell_type": "code",
   "execution_count": 4,
   "metadata": {},
   "outputs": [
    {
     "name": "stdout",
     "output_type": "stream",
     "text": [
      "+---------+\n",
      "|R: | : :\u001b[34;1mG\u001b[0m|\n",
      "| : | : : |\n",
      "| : : : : |\n",
      "| | : | : |\n",
      "|\u001b[35mY\u001b[0m|\u001b[43m \u001b[0m: |B: |\n",
      "+---------+\n",
      "\n"
     ]
    }
   ],
   "source": [
    "import gym\n",
    "import random\n",
    "\n",
    "random.seed(1234)\n",
    "\n",
    "streets = gym.make(\"Taxi-v3\").env #New versions keep getting released; if -v3 doesn't work, try -v2 or -v4\n",
    "streets.render()"
   ]
  },
  {
   "cell_type": "markdown",
   "metadata": {},
   "source": [
    "Each state is defined by a 4 entries tuple: （taxi_row, taxi_col, passenger_location, destination). For example, the image shows state (2,3,2,0), which means we are at position row index 2 (note that python index start at 0 so this means row 3), and column index 3, the passenger is at Yellow, encoded by 2 and our destination is red, encoded by 0"
   ]
  },
  {
   "cell_type": "code",
   "execution_count": 5,
   "metadata": {},
   "outputs": [
    {
     "name": "stdout",
     "output_type": "stream",
     "text": [
      "+---------+\n",
      "|\u001b[35mR\u001b[0m: | : :G|\n",
      "| : | : : |\n",
      "| : : :\u001b[43m \u001b[0m: |\n",
      "| | : | : |\n",
      "|\u001b[34;1mY\u001b[0m| : |B: |\n",
      "+---------+\n",
      "\n"
     ]
    }
   ],
   "source": [
    "initial_state = streets.encode(2, 3, 2, 0)\n",
    "\n",
    "streets.s = initial_state\n",
    "\n",
    "streets.render()"
   ]
  },
  {
   "cell_type": "markdown",
   "metadata": {},
   "source": [
    "## Aprendizaje de la Q-Table\n",
    "Entrenamiento del modelo"
   ]
  },
  {
   "cell_type": "code",
   "execution_count": 6,
   "metadata": {},
   "outputs": [
    {
     "name": "stdout",
     "output_type": "stream",
     "text": [
      "3000\n"
     ]
    }
   ],
   "source": [
    "import numpy as np\n",
    "\n",
    "q_table = np.zeros([streets.observation_space.n, streets.action_space.n])\n",
    "print(np.size(q_table))\n",
    "# a 2D array that represent every possible state and action in the virtual space and initialize all of them to 0\n",
    "learning_rate = 0.1\n",
    "discount_factor = 0.6\n",
    "exploration = 0.1\n",
    "epochs = 10000\n",
    "\n",
    "for taxi_run in range(epochs):\n",
    "    state = streets.reset()\n",
    "    done = False\n",
    "    \n",
    "    while not done:\n",
    "        random_value = random.uniform(0, 1)\n",
    "        if (random_value < exploration):\n",
    "            action = streets.action_space.sample() # Explore a random action\n",
    "        else:\n",
    "            # print(f'Q_table {q_table[state]} el max es { np.argmax(q_table[state])}')\n",
    "            action = np.argmax(q_table[state]) # Use the action with the highest q-value\n",
    "            \n",
    "        next_state, reward, done, info = streets.step(action)\n",
    "        \n",
    "        prev_q = q_table[state, action]\n",
    "        next_max_q = np.max(q_table[next_state])\n",
    "        new_q = (1 - learning_rate) * prev_q + learning_rate * (reward + discount_factor * next_max_q)\n",
    "        q_table[state, action] = new_q\n",
    "        \n",
    "        state = next_state\n",
    "        "
   ]
  },
  {
   "cell_type": "code",
   "execution_count": 7,
   "metadata": {},
   "outputs": [
    {
     "data": {
      "text/plain": [
       "array([-2.12208668, -2.21134532, -2.27445838, -2.21401063, -7.20615896,\n",
       "       -6.1696944 ])"
      ]
     },
     "execution_count": 7,
     "metadata": {},
     "output_type": "execute_result"
    }
   ],
   "source": [
    "q_table[streets.encode(1,0,2,0)]  "
   ]
  },
  {
   "cell_type": "code",
   "execution_count": 8,
   "metadata": {},
   "outputs": [
    {
     "name": "stdout",
     "output_type": "stream",
     "text": [
      "Trip number 10 Step 24\n",
      "+---------+\n",
      "|R: | : :\u001b[34;1mG\u001b[0m|\n",
      "| : | : : |\n",
      "| : : : : |\n",
      "| | : | : |\n",
      "|\u001b[35mY\u001b[0m|\u001b[43m \u001b[0m: |B: |\n",
      "+---------+\n",
      "  (South)\n",
      "\n",
      "La media de pasos es: 14.0\n"
     ]
    }
   ],
   "source": [
    "from IPython.display import clear_output\n",
    "from time import sleep\n",
    "lengths=[]\n",
    "for tripnum in range(1, 11):\n",
    "    state = streets.reset()\n",
    "   \n",
    "    done = False\n",
    "    trip_length = 0\n",
    "    \n",
    "    while not done and trip_length < 25:\n",
    "        action = np.argmax(q_table[state])\n",
    "        next_state, reward, done, info = streets.step(action)\n",
    "        clear_output(wait=True)\n",
    "        print(\"Trip number \" + str(tripnum) + \" Step \" + str(trip_length))\n",
    "        print(streets.render(mode='ansi'))\n",
    "        sleep(.2)\n",
    "        state = next_state\n",
    "        trip_length += 1\n",
    "    lengths.append(trip_length)\n",
    "    \n",
    "    sleep(.2)\n",
    "avg_len=sum(lengths)/10\n",
    "print(f'La media de pasos es: {avg_len}')"
   ]
  },
  {
   "cell_type": "markdown",
   "metadata": {},
   "source": [
    "## Definimos las funciones\n",
    "Ahora tenemos el Q-Learning para aprender nuestra tabla y probarla"
   ]
  },
  {
   "cell_type": "code",
   "execution_count": 9,
   "metadata": {},
   "outputs": [],
   "source": [
    "def q_learning(learning_rate,discount_factor,exploration,epochs):\n",
    "    q_table = np.zeros([streets.observation_space.n, streets.action_space.n])\n",
    "    # a 2D array that represent every possible state and action in the virtual space and initialize all of them to 0\n",
    "    for taxi_run in range(epochs):\n",
    "        state = streets.reset()\n",
    "        done = False\n",
    "            \n",
    "        while not done:\n",
    "            random_value = random.uniform(0, 1)\n",
    "            if (random_value < exploration):\n",
    "                action = streets.action_space.sample() # Explore a random action\n",
    "            else:\n",
    "                action = np.argmax(q_table[state]) # Use the action with the highest q-value\n",
    "                    \n",
    "            next_state, reward, done, info = streets.step(action)\n",
    "                \n",
    "            prev_q = q_table[state, action]\n",
    "            next_max_q = np.max(q_table[next_state])\n",
    "            new_q = (1 - learning_rate) * prev_q + learning_rate * (reward + discount_factor * next_max_q)\n",
    "            q_table[state, action] = new_q\n",
    "                \n",
    "            state = next_state\n",
    "\n",
    "\n",
    "\n",
    "def average_trip_length():\n",
    "    lengths=[]\n",
    "    for tripnum in range(1, 11):\n",
    "        state = streets.reset()\n",
    "        done = False\n",
    "        trip_length = 0\n",
    "        \n",
    "        while not done and trip_length < 25:\n",
    "            action = np.argmax(q_table[state])\n",
    "            next_state, reward, done, info = streets.step(action)\n",
    "            clear_output(wait=True)\n",
    "            state = next_state\n",
    "            trip_length += 1\n",
    "        lengths.append(trip_length)\n",
    "    avg_len=sum(lengths)/10\n",
    "    return avg_len"
   ]
  },
  {
   "cell_type": "markdown",
   "metadata": {},
   "source": [
    "## Ajuste de hiperparametros"
   ]
  },
  {
   "cell_type": "code",
   "execution_count": 10,
   "metadata": {},
   "outputs": [
    {
     "name": "stdout",
     "output_type": "stream",
     "text": [
      "[12.15 12.59 12.2  12.15 12.62]\n"
     ]
    }
   ],
   "source": [
    "learning_rate = 0.1\n",
    "discount_factor = [0.5,0.6,0.7,0.8,0.9]\n",
    "exploration = 0.1\n",
    "epochs = 1000\n",
    "difdis=[0,0,0,0,0]\n",
    "for j in range(1,10):\n",
    "    for i in range(len(discount_factor)):\n",
    "        q_learning(learning_rate,discount_factor[i],exploration,epochs)\n",
    "        difdis[i]+=average_trip_length()\n",
    "\n",
    "print(np.array(difdis)/10)"
   ]
  },
  {
   "cell_type": "code",
   "execution_count": 11,
   "metadata": {},
   "outputs": [
    {
     "name": "stdout",
     "output_type": "stream",
     "text": [
      "[12.47 12.99 13.08 12.78 12.76]\n"
     ]
    }
   ],
   "source": [
    "learning_rate = [0.1,0.2,0.3,0.4,0.5]\n",
    "discount_factor = 0.9\n",
    "exploration = 0.1\n",
    "epochs = 1000\n",
    "difdis=[0,0,0,0,0]\n",
    "for j in range(1,10):\n",
    "    for i in range(len(learning_rate)):\n",
    "        q_learning(learning_rate[i],discount_factor,exploration,epochs)\n",
    "        difdis[i]+=average_trip_length()\n",
    "\n",
    "print(np.array(difdis)/10)"
   ]
  },
  {
   "cell_type": "code",
   "execution_count": 12,
   "metadata": {},
   "outputs": [
    {
     "name": "stdout",
     "output_type": "stream",
     "text": [
      "[12.43 12.26 12.55 12.64]\n"
     ]
    }
   ],
   "source": [
    "learning_rate = 0.5\n",
    "discount_factor = 0.5\n",
    "exploration = [0.1,0.2,0.3,0.4]\n",
    "epochs = 1000\n",
    "difdis=[0,0,0,0]\n",
    "for j in range(1,10):\n",
    "    for i in range(len(exploration)):\n",
    "        q_learning(learning_rate,discount_factor,exploration[i],epochs)\n",
    "        difdis[i]+=average_trip_length()\n",
    "\n",
    "print(np.array(difdis)/10)"
   ]
  },
  {
   "cell_type": "code",
   "execution_count": 13,
   "metadata": {},
   "outputs": [
    {
     "name": "stdout",
     "output_type": "stream",
     "text": [
      "12.370000000000001\n"
     ]
    }
   ],
   "source": [
    "learning_rate = 0.4\n",
    "discount_factor = 0.5\n",
    "exploration = 0.3\n",
    "epochs = 1000\n",
    "difdis=[]\n",
    "for j in range(1,10):\n",
    "        q_learning(learning_rate,discount_factor,exploration,epochs)\n",
    "        difdis.append(average_trip_length())\n",
    "\n",
    "print(sum(difdis)/10)"
   ]
  },
  {
   "cell_type": "markdown",
   "metadata": {},
   "source": [
    "## Deep Q-Learning"
   ]
  },
  {
   "cell_type": "code",
   "execution_count": 14,
   "metadata": {},
   "outputs": [
    {
     "ename": "ImportError",
     "evalue": "cannot import name 'model' from 'model' (c:\\Users\\Arribas\\Desktop\\Code\\TFG_Atari_NeuralNetworks\\Taxi\\model.py)",
     "output_type": "error",
     "traceback": [
      "\u001b[1;31m---------------------------------------------------------------------------\u001b[0m",
      "\u001b[1;31mImportError\u001b[0m                               Traceback (most recent call last)",
      "\u001b[1;32mc:\\Users\\Arribas\\Desktop\\Code\\TFG_Atari_NeuralNetworks\\Taxi\\TaxiTFG.ipynb Cell 20'\u001b[0m in \u001b[0;36m<cell line: 1>\u001b[1;34m()\u001b[0m\n\u001b[1;32m----> <a href='vscode-notebook-cell:/c%3A/Users/Arribas/Desktop/Code/TFG_Atari_NeuralNetworks/Taxi/TaxiTFG.ipynb#ch0000019?line=0'>1</a>\u001b[0m \u001b[39mfrom\u001b[39;00m \u001b[39mmodel\u001b[39;00m \u001b[39mimport\u001b[39;00m model\n\u001b[0;32m      <a href='vscode-notebook-cell:/c%3A/Users/Arribas/Desktop/Code/TFG_Atari_NeuralNetworks/Taxi/TaxiTFG.ipynb#ch0000019?line=1'>2</a>\u001b[0m \u001b[39mfrom\u001b[39;00m \u001b[39magent\u001b[39;00m \u001b[39mimport\u001b[39;00m DQNAgent\n\u001b[0;32m      <a href='vscode-notebook-cell:/c%3A/Users/Arribas/Desktop/Code/TFG_Atari_NeuralNetworks/Taxi/TaxiTFG.ipynb#ch0000019?line=2'>3</a>\u001b[0m \u001b[39mfrom\u001b[39;00m \u001b[39mconfig\u001b[39;00m \u001b[39mimport\u001b[39;00m config\n",
      "\u001b[1;31mImportError\u001b[0m: cannot import name 'model' from 'model' (c:\\Users\\Arribas\\Desktop\\Code\\TFG_Atari_NeuralNetworks\\Taxi\\model.py)"
     ]
    }
   ],
   "source": [
    "from model import model\n",
    "from agent import DQNAgent\n",
    "from config import config"
   ]
  }
 ],
 "metadata": {
  "kernelspec": {
   "display_name": "Python 3.9.7 ('TFG': venv)",
   "language": "python",
   "name": "python3"
  },
  "language_info": {
   "codemirror_mode": {
    "name": "ipython",
    "version": 3
   },
   "file_extension": ".py",
   "mimetype": "text/x-python",
   "name": "python",
   "nbconvert_exporter": "python",
   "pygments_lexer": "ipython3",
   "version": "3.9.7"
  },
  "orig_nbformat": 4,
  "vscode": {
   "interpreter": {
    "hash": "8509acc5e8713a98dbbedabfc6a6cac6fac2bca11eebbd95d8d371780a414dfa"
   }
  }
 },
 "nbformat": 4,
 "nbformat_minor": 2
}
