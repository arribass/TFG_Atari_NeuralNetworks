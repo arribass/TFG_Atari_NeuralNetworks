{
 "cells": [
  {
   "cell_type": "code",
   "execution_count": 1,
   "metadata": {},
   "outputs": [
    {
     "name": "stdout",
     "output_type": "stream",
     "text": [
      "\n",
      "Episodio: 0\n",
      "Ratio de exito: 0 / 0\n",
      "\n",
      "Episodio: 1\n",
      "Ratio de exito: 0 / 1\n",
      "\n",
      "Episodio: 2\n",
      "Ratio de exito: 0 / 2\n"
     ]
    },
    {
     "name": "stderr",
     "output_type": "stream",
     "text": [
      "c:\\Users\\Arribas\\Desktop\\Code\\TFG_Atari_NeuralNetworks\\DQN_Pong\\agent.py:177: UserWarning: Creating a tensor from a list of numpy.ndarrays is extremely slow. Please consider converting the list to a single numpy.ndarray with numpy.array() before converting to a tensor. (Triggered internally at  ..\\torch\\csrc\\utils\\tensor_new.cpp:210.)\n",
      "  self.memory.push(torch.tensor([state], device=self.device),\n"
     ]
    },
    {
     "name": "stdout",
     "output_type": "stream",
     "text": [
      "\n",
      "Episodio: 3\n",
      "Ratio de exito: 0 / 3\n",
      "\n",
      "Episodio: 4\n",
      "Ratio de exito: 0 / 4\n",
      "\n",
      "Episodio: 5\n",
      "Ratio de exito: 0 / 5\n",
      "\n",
      "Episodio: 6\n",
      "Ratio de exito: 0 / 6\n",
      "\n",
      "Episodio: 7\n",
      "Ratio de exito: 0 / 7\n",
      "\n",
      "Episodio: 8\n",
      "Ratio de exito: 0 / 8\n",
      "\n",
      "Episodio: 9\n",
      "Ratio de exito: 0 / 9\n",
      "\n",
      "Episodio: 10\n",
      "Ratio de exito: 0 / 10\n",
      "\n",
      "Episodio: 11\n",
      "Ratio de exito: 0 / 11\n",
      "\n",
      "Episodio: 12\n",
      "Ratio de exito: 0 / 12\n",
      "\n",
      "Episodio: 13\n",
      "Ratio de exito: 0 / 13\n",
      "\n",
      "Episodio: 14\n",
      "Ratio de exito: 0 / 14\n",
      "\n",
      "Episodio: 15\n",
      "Ratio de exito: 0 / 15\n",
      "\n",
      "Episodio: 16\n",
      "Ratio de exito: 0 / 16\n",
      "\n",
      "Episodio: 17\n",
      "Ratio de exito: 0 / 17\n",
      "\n",
      "Episodio: 18\n",
      "Ratio de exito: 0 / 18\n",
      "\n",
      "Episodio: 19\n",
      "Ratio de exito: 0 / 19\n",
      "\n",
      "Episodio: 20\n",
      "Ratio de exito: 0 / 20\n",
      "\n",
      "Episodio: 21\n",
      "Ratio de exito: 0 / 21\n",
      "\n",
      "Episodio: 22\n",
      "Ratio de exito: 0 / 22\n",
      "Training has finished\n",
      "Guardando modelo y datos\n"
     ]
    },
    {
     "name": "stderr",
     "output_type": "stream",
     "text": [
      "c:\\Users\\Arribas\\anaconda3\\envs\\TFG\\lib\\site-packages\\numpy\\core\\fromnumeric.py:3432: RuntimeWarning: Mean of empty slice.\n",
      "  return _methods._mean(a, axis=axis, dtype=dtype,\n",
      "c:\\Users\\Arribas\\anaconda3\\envs\\TFG\\lib\\site-packages\\numpy\\core\\_methods.py:190: RuntimeWarning: invalid value encountered in double_scalars\n",
      "  ret = ret.dtype.type(ret / rcount)\n"
     ]
    },
    {
     "ename": "",
     "evalue": "",
     "output_type": "error",
     "traceback": [
      "\u001b[1;31mCanceled future for execute_request message before replies were done"
     ]
    },
    {
     "ename": "",
     "evalue": "",
     "output_type": "error",
     "traceback": [
      "\u001b[1;31mEl Kernel se bloqueó al ejecutar código en la celda actual o en una celda anterior. Revise el código de las celdas para identificar una posible causa del error. Haga clic <a href='https://aka.ms/vscodeJupyterKernelCrash'>aquí</a> para obtener más información. Vea el [registro] de Jupyter (command:jupyter.viewOutput) para obtener más detalles."
     ]
    }
   ],
   "source": [
    "import gym\n",
    "from agent import PongAgent\n",
    "from model import DQN\n",
    "\n",
    "env = gym.make('Pong-v0')\n",
    "env.reset()\n",
    "\n",
    "AgentePong = PongAgent(env, model = DQN)\n",
    "AgentePong.preparar()\n",
    "AgentePong.entrenar_por_lotes(num_episodes=100000000)\n"
   ]
  },
  {
   "cell_type": "code",
   "execution_count": null,
   "metadata": {},
   "outputs": [],
   "source": [
    "from gym.core import ObservationWrapper\n",
    "from gym.spaces import Box\n",
    "\n",
    "# from scipy.misc import imresize\n",
    "import cv2\n",
    "\n",
    "class PreprocessAtari(ObservationWrapper):\n",
    "    def __init__(self, env):\n",
    "        \"\"\"A gym wrapper that crops, scales image into the desired shapes and optionally grayscales it.\"\"\"\n",
    "        ObservationWrapper.__init__(self,env)\n",
    "        \n",
    "        self.img_size = (84, 84)\n",
    "        self.observation_space = Box(0.0, 1.0, (self.img_size[0], self.img_size[1], 1))\n",
    "\n",
    "    def observation(self, img):\n",
    "        \"\"\"what happens to each observation\"\"\"\n",
    "        \n",
    "        # crop image (top and bottom, top from 34, bottom remove last 16)\n",
    "        img = img[34:-16, :, :]\n",
    "        \n",
    "        # resize image\n",
    "        img = cv2.resize(img, self.img_size)\n",
    "        \n",
    "        img = img.mean(-1,keepdims=True)\n",
    "        \n",
    "        img = img.astype('float32') / 255.\n",
    "              \n",
    "        return img"
   ]
  }
 ],
 "metadata": {
  "kernelspec": {
   "display_name": "Python 3.10.4 ('TFG')",
   "language": "python",
   "name": "python3"
  },
  "language_info": {
   "codemirror_mode": {
    "name": "ipython",
    "version": 3
   },
   "file_extension": ".py",
   "mimetype": "text/x-python",
   "name": "python",
   "nbconvert_exporter": "python",
   "pygments_lexer": "ipython3",
   "version": "3.10.4"
  },
  "orig_nbformat": 4,
  "vscode": {
   "interpreter": {
    "hash": "e05437fa0fc53250a4e4becd1344dfe15cafc8b3911f20ffda9bbc92cb7c9efc"
   }
  }
 },
 "nbformat": 4,
 "nbformat_minor": 2
}
