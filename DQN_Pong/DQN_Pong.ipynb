{
 "cells": [
  {
   "cell_type": "code",
   "execution_count": 1,
   "metadata": {},
   "outputs": [
    {
     "name": "stdout",
     "output_type": "stream",
     "text": [
      "Entrada: 128 Salida: 4\n",
      "id: DQN_Pong_8_3_0_31\n",
      "gamma: 0.99\n",
      "optimizer: Adam (\n",
      "Parameter Group 0\n",
      "    amsgrad: False\n",
      "    betas: (0.9, 0.999)\n",
      "    eps: 1e-08\n",
      "    lr: 0.001\n",
      "    weight_decay: 0\n",
      ")\n",
      "loss: L1Loss()\n",
      "device: cuda\n",
      "model: DQN(\n",
      "  (fc1): Linear(in_features=128, out_features=256, bias=True)\n",
      "  (fc2): Linear(in_features=256, out_features=128, bias=True)\n",
      "  (fc3): Linear(in_features=128, out_features=64, bias=True)\n",
      "  (fc4): Linear(in_features=64, out_features=4, bias=True)\n",
      ")\n",
      "modeloObjetivo: DQN(\n",
      "  (fc1): Linear(in_features=128, out_features=256, bias=True)\n",
      "  (fc2): Linear(in_features=256, out_features=128, bias=True)\n",
      "  (fc3): Linear(in_features=128, out_features=64, bias=True)\n",
      "  (fc4): Linear(in_features=64, out_features=4, bias=True)\n",
      ")\n",
      "env: <FireResetEnv<TimeLimit<AtariEnv<Breakout-ram-v0>>>>\n",
      "episodios_exitosos: 0\n"
     ]
    }
   ],
   "source": [
    "import gym\n",
    "from numpy import clip\n",
    "from agent import PongAgent\n",
    "from model import DQN\n",
    "import wrappers\n",
    "\n",
    "env = gym.make('Breakout-ram-v0')\n",
    "# env = wrappers.ClipRewardEnv(env)\n",
    "env = wrappers.FireResetEnv(env)\n",
    "env.reset()\n",
    "\n",
    "AgentePong = PongAgent(env, config = 'basic_config.yaml',model = DQN)\n",
    "AgentePong.preparar()\n",
    "AgentePong.mostrar_datos_clase()\n"
   ]
  },
  {
   "cell_type": "code",
   "execution_count": 2,
   "metadata": {},
   "outputs": [
    {
     "ename": "TypeError",
     "evalue": "entrenar_por_lotes() got multiple values for argument 'grafica'",
     "output_type": "error",
     "traceback": [
      "\u001b[1;31m---------------------------------------------------------------------------\u001b[0m",
      "\u001b[1;31mTypeError\u001b[0m                                 Traceback (most recent call last)",
      "\u001b[1;32mc:\\Users\\Arribas\\Desktop\\Code\\TFG_Atari_NeuralNetworks\\DQN_Pong\\DQN_Pong.ipynb Celda 2\u001b[0m in \u001b[0;36m<cell line: 1>\u001b[1;34m()\u001b[0m\n\u001b[1;32m----> <a href='vscode-notebook-cell:/c%3A/Users/Arribas/Desktop/Code/TFG_Atari_NeuralNetworks/DQN_Pong/DQN_Pong.ipynb#ch0000001?line=0'>1</a>\u001b[0m AgentePong\u001b[39m.\u001b[39;49mentrenar_por_lotes(\u001b[39m10000\u001b[39;49m,grafica\u001b[39m=\u001b[39;49m\u001b[39mTrue\u001b[39;49;00m,tb\u001b[39m=\u001b[39;49m\u001b[39mTrue\u001b[39;49;00m)\n",
      "\u001b[1;31mTypeError\u001b[0m: entrenar_por_lotes() got multiple values for argument 'grafica'"
     ]
    }
   ],
   "source": [
    "AgentePong.entrenar_por_lotes(grafica=True,tb=True)"
   ]
  },
  {
   "cell_type": "code",
   "execution_count": null,
   "metadata": {},
   "outputs": [
    {
     "name": "stdout",
     "output_type": "stream",
     "text": [
      "Action 1 recompensa 1.0\n",
      "Action 1 recompensa 1.0\n",
      "Action 2 recompensa 1.0\n",
      "Action 0 recompensa 1.0\n",
      "Action 2 recompensa 1.0\n",
      "Action 0 recompensa 1.0\n",
      "Action 3 recompensa 1.0\n",
      "Action 0 recompensa 1.0\n",
      "Action 2 recompensa 1.0\n",
      "Action 3 recompensa 1.0\n",
      "Action 2 recompensa 1.0\n",
      "Action 2 recompensa 1.0\n",
      "Action 0 recompensa 1.0\n",
      "Action 2 recompensa 1.0\n",
      "Action 2 recompensa 1.0\n",
      "Action 2 recompensa 1.0\n",
      "Action 3 recompensa 1.0\n",
      "Action 0 recompensa 1.0\n",
      "Action 3 recompensa 1.0\n",
      "Action 0 recompensa 1.0\n",
      "Action 2 recompensa 1.0\n",
      "Action 0 recompensa 1.0\n",
      "Action 1 recompensa 1.0\n",
      "Action 0 recompensa 1.0\n",
      "Action 3 recompensa 1.0\n",
      "Action 1 recompensa 1.0\n",
      "Action 3 recompensa 1.0\n",
      "Action 0 recompensa 1.0\n",
      "Action 3 recompensa 1.0\n",
      "Action 0 recompensa 1.0\n",
      "Action 3 recompensa 1.0\n",
      "Action 3 recompensa 1.0\n",
      "Action 0 recompensa 1.0\n",
      "Action 0 recompensa 1.0\n",
      "Action 3 recompensa 1.0\n",
      "Action 1 recompensa 1.0\n",
      "Action 0 recompensa 1.0\n",
      "Action 3 recompensa 1.0\n",
      "Action 0 recompensa 1.0\n",
      "Action 2 recompensa 1.0\n",
      "Action 2 recompensa 1.0\n",
      "Action 2 recompensa 1.0\n",
      "Action 0 recompensa 1.0\n",
      "Action 3 recompensa 1.0\n",
      "Action 0 recompensa 1.0\n",
      "Action 2 recompensa 1.0\n",
      "Action 0 recompensa 1.0\n",
      "Action 1 recompensa 1.0\n",
      "Action 3 recompensa 1.0\n",
      "Action 2 recompensa 1.0\n",
      "Action 3 recompensa 1.0\n",
      "Action 2 recompensa 1.0\n",
      "Action 1 recompensa 1.0\n",
      "Action 3 recompensa 1.0\n",
      "Action 1 recompensa 1.0\n",
      "Action 3 recompensa 1.0\n",
      "Action 3 recompensa 1.0\n",
      "Action 2 recompensa 1.0\n",
      "Action 2 recompensa 1.0\n",
      "Action 2 recompensa 1.0\n",
      "Action 2 recompensa 1.0\n",
      "Action 1 recompensa 1.0\n",
      "Action 0 recompensa 1.0\n",
      "Action 3 recompensa 1.0\n",
      "Action 1 recompensa 1.0\n",
      "Action 3 recompensa 1.0\n",
      "Action 2 recompensa 1.0\n",
      "Action 3 recompensa 1.0\n",
      "Action 2 recompensa 1.0\n"
     ]
    },
    {
     "ename": "KeyboardInterrupt",
     "evalue": "",
     "output_type": "error",
     "traceback": [
      "\u001b[1;31m---------------------------------------------------------------------------\u001b[0m",
      "\u001b[1;31mKeyboardInterrupt\u001b[0m                         Traceback (most recent call last)",
      "\u001b[1;32mc:\\Users\\Arribas\\Desktop\\Code\\TFG_Atari_NeuralNetworks\\DQN_Pong\\DQN_Pong.ipynb Celda 3\u001b[0m in \u001b[0;36m<cell line: 6>\u001b[1;34m()\u001b[0m\n\u001b[0;32m      <a href='vscode-notebook-cell:/c%3A/Users/Arribas/Desktop/Code/TFG_Atari_NeuralNetworks/DQN_Pong/DQN_Pong.ipynb#ch0000002?line=4'>5</a>\u001b[0m \u001b[39mwhile\u001b[39;00m \u001b[39m1\u001b[39m:\n\u001b[0;32m      <a href='vscode-notebook-cell:/c%3A/Users/Arribas/Desktop/Code/TFG_Atari_NeuralNetworks/DQN_Pong/DQN_Pong.ipynb#ch0000002?line=5'>6</a>\u001b[0m     accion \u001b[39m=\u001b[39m AgentePong\u001b[39m.\u001b[39menv\u001b[39m.\u001b[39maction_space\u001b[39m.\u001b[39msample()\n\u001b[1;32m----> <a href='vscode-notebook-cell:/c%3A/Users/Arribas/Desktop/Code/TFG_Atari_NeuralNetworks/DQN_Pong/DQN_Pong.ipynb#ch0000002?line=6'>7</a>\u001b[0m     _next_state, reward, done, _ \u001b[39m=\u001b[39m AgentePong\u001b[39m.\u001b[39;49menv\u001b[39m.\u001b[39;49mstep(accion)\n\u001b[0;32m      <a href='vscode-notebook-cell:/c%3A/Users/Arribas/Desktop/Code/TFG_Atari_NeuralNetworks/DQN_Pong/DQN_Pong.ipynb#ch0000002?line=8'>9</a>\u001b[0m     \u001b[39mif\u001b[39;00m reward \u001b[39m>\u001b[39m \u001b[39m0\u001b[39m:\n\u001b[0;32m     <a href='vscode-notebook-cell:/c%3A/Users/Arribas/Desktop/Code/TFG_Atari_NeuralNetworks/DQN_Pong/DQN_Pong.ipynb#ch0000002?line=9'>10</a>\u001b[0m         \u001b[39mprint\u001b[39m(\u001b[39mf\u001b[39m\u001b[39m'\u001b[39m\u001b[39mAction \u001b[39m\u001b[39m{\u001b[39;00maccion\u001b[39m}\u001b[39;00m\u001b[39m recompensa \u001b[39m\u001b[39m{\u001b[39;00mreward\u001b[39m}\u001b[39;00m\u001b[39m'\u001b[39m)\n",
      "File \u001b[1;32mc:\\Users\\Arribas\\Desktop\\Code\\TFG_Atari_NeuralNetworks\\DQN_Pong\\wrappers.py:86\u001b[0m, in \u001b[0;36mFireResetEnv.step\u001b[1;34m(self, ac)\u001b[0m\n\u001b[0;32m     85\u001b[0m \u001b[39mdef\u001b[39;00m \u001b[39mstep\u001b[39m(\u001b[39mself\u001b[39m, ac):\n\u001b[1;32m---> 86\u001b[0m     \u001b[39mreturn\u001b[39;00m \u001b[39mself\u001b[39;49m\u001b[39m.\u001b[39;49menv\u001b[39m.\u001b[39;49mstep(ac)\n",
      "File \u001b[1;32mc:\\Users\\Arribas\\Desktop\\Code\\TFG_Atari_NeuralNetworks\\TFG\\lib\\site-packages\\gym\\wrappers\\time_limit.py:16\u001b[0m, in \u001b[0;36mTimeLimit.step\u001b[1;34m(self, action)\u001b[0m\n\u001b[0;32m     14\u001b[0m \u001b[39mdef\u001b[39;00m \u001b[39mstep\u001b[39m(\u001b[39mself\u001b[39m, action):\n\u001b[0;32m     15\u001b[0m     \u001b[39massert\u001b[39;00m \u001b[39mself\u001b[39m\u001b[39m.\u001b[39m_elapsed_steps \u001b[39mis\u001b[39;00m \u001b[39mnot\u001b[39;00m \u001b[39mNone\u001b[39;00m, \u001b[39m\"\u001b[39m\u001b[39mCannot call env.step() before calling reset()\u001b[39m\u001b[39m\"\u001b[39m\n\u001b[1;32m---> 16\u001b[0m     observation, reward, done, info \u001b[39m=\u001b[39m \u001b[39mself\u001b[39;49m\u001b[39m.\u001b[39;49menv\u001b[39m.\u001b[39;49mstep(action)\n\u001b[0;32m     17\u001b[0m     \u001b[39mself\u001b[39m\u001b[39m.\u001b[39m_elapsed_steps \u001b[39m+\u001b[39m\u001b[39m=\u001b[39m \u001b[39m1\u001b[39m\n\u001b[0;32m     18\u001b[0m     \u001b[39mif\u001b[39;00m \u001b[39mself\u001b[39m\u001b[39m.\u001b[39m_elapsed_steps \u001b[39m>\u001b[39m\u001b[39m=\u001b[39m \u001b[39mself\u001b[39m\u001b[39m.\u001b[39m_max_episode_steps:\n",
      "File \u001b[1;32mc:\\Users\\Arribas\\Desktop\\Code\\TFG_Atari_NeuralNetworks\\TFG\\lib\\site-packages\\gym\\envs\\atari\\atari_env.py:120\u001b[0m, in \u001b[0;36mAtariEnv.step\u001b[1;34m(self, a)\u001b[0m\n\u001b[0;32m    118\u001b[0m     num_steps \u001b[39m=\u001b[39m \u001b[39mself\u001b[39m\u001b[39m.\u001b[39mnp_random\u001b[39m.\u001b[39mrandint(\u001b[39mself\u001b[39m\u001b[39m.\u001b[39mframeskip[\u001b[39m0\u001b[39m], \u001b[39mself\u001b[39m\u001b[39m.\u001b[39mframeskip[\u001b[39m1\u001b[39m])\n\u001b[0;32m    119\u001b[0m \u001b[39mfor\u001b[39;00m _ \u001b[39min\u001b[39;00m \u001b[39mrange\u001b[39m(num_steps):\n\u001b[1;32m--> 120\u001b[0m     reward \u001b[39m+\u001b[39m\u001b[39m=\u001b[39m \u001b[39mself\u001b[39;49m\u001b[39m.\u001b[39;49male\u001b[39m.\u001b[39;49mact(action)\n\u001b[0;32m    121\u001b[0m ob \u001b[39m=\u001b[39m \u001b[39mself\u001b[39m\u001b[39m.\u001b[39m_get_obs()\n\u001b[0;32m    123\u001b[0m \u001b[39mreturn\u001b[39;00m ob, reward, \u001b[39mself\u001b[39m\u001b[39m.\u001b[39male\u001b[39m.\u001b[39mgame_over(), {\u001b[39m\"\u001b[39m\u001b[39male.lives\u001b[39m\u001b[39m\"\u001b[39m: \u001b[39mself\u001b[39m\u001b[39m.\u001b[39male\u001b[39m.\u001b[39mlives()}\n",
      "File \u001b[1;32mc:\\Users\\Arribas\\Desktop\\Code\\TFG_Atari_NeuralNetworks\\TFG\\lib\\site-packages\\atari_py\\ale_python_interface.py:152\u001b[0m, in \u001b[0;36mALEInterface.act\u001b[1;34m(self, action)\u001b[0m\n\u001b[0;32m    151\u001b[0m \u001b[39mdef\u001b[39;00m \u001b[39mact\u001b[39m(\u001b[39mself\u001b[39m, action):\n\u001b[1;32m--> 152\u001b[0m     \u001b[39mreturn\u001b[39;00m ale_lib\u001b[39m.\u001b[39;49mact(\u001b[39mself\u001b[39;49m\u001b[39m.\u001b[39;49mobj, \u001b[39mint\u001b[39;49m(action))\n",
      "\u001b[1;31mKeyboardInterrupt\u001b[0m: "
     ]
    }
   ],
   "source": [
    "from time import sleep\n",
    "\n",
    "done = True\n",
    "AgentePong.env.reset()\n",
    "while 1:\n",
    "    accion = AgentePong.env.action_space.sample()\n",
    "    _next_state, reward, done, _ = AgentePong.env.step(accion)\n",
    "    \n",
    "    if reward > 0:\n",
    "        print(f'Action {accion} recompensa {reward}')\n",
    "    if done:\n",
    "        AgentePong.env.reset()\n",
    "    # sleep(0.1)"
   ]
  },
  {
   "cell_type": "code",
   "execution_count": null,
   "metadata": {},
   "outputs": [
    {
     "data": {
      "text/plain": [
       "-1"
      ]
     },
     "execution_count": 1,
     "metadata": {},
     "output_type": "execute_result"
    }
   ],
   "source": [
    "import gym\n",
    "from time import sleep\n",
    "from IPython import display\n",
    "env = gym.make('Pong-ram-v0')\n",
    "\n",
    "env.reset()\n",
    "import cv2\n",
    "import matplotlib.pyplot as plt\n",
    "\n",
    "pixels = env.unwrapped._get_image()\n",
    "for i in range(10000):\n",
    "    try:\n",
    "        _next_state, reward, done, _ = env.step(env.action_space.sample())\n",
    "        pixels = env.unwrapped._get_image()\n",
    "        imgplot = plt.imshow(pixels)\n",
    "        plt.show()\n",
    "        display.clear_output(wait=True)\n",
    "        sleep(0.1)\n",
    "    except KeyboardInterrupt:\n",
    "        break\n",
    "    finally:\n",
    "        if done:\n",
    "            pixels = env.unwrapped._get_image()\n",
    "            imgplot = plt.imshow(pixels)\n",
    "            plt.show()\n",
    "            display.clear_output(wait=True)\n",
    "            sleep(0.1)\n",
    "cv2.waitKey(0)"
   ]
  },
  {
   "cell_type": "code",
   "execution_count": null,
   "metadata": {},
   "outputs": [
    {
     "name": "stdout",
     "output_type": "stream",
     "text": [
      "0.15.3\n"
     ]
    }
   ],
   "source": [
    "import gym\n",
    "print(gym.__version__)"
   ]
  }
 ],
 "metadata": {
  "kernelspec": {
   "display_name": "Python 3.9.12 ('TFG': venv)",
   "language": "python",
   "name": "python3"
  },
  "language_info": {
   "codemirror_mode": {
    "name": "ipython",
    "version": 3
   },
   "file_extension": ".py",
   "mimetype": "text/x-python",
   "name": "python",
   "nbconvert_exporter": "python",
   "pygments_lexer": "ipython3",
   "version": "3.9.12"
  },
  "orig_nbformat": 4,
  "vscode": {
   "interpreter": {
    "hash": "8509acc5e8713a98dbbedabfc6a6cac6fac2bca11eebbd95d8d371780a414dfa"
   }
  }
 },
 "nbformat": 4,
 "nbformat_minor": 2
}
